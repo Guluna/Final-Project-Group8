{
 "cells": [
  {
   "cell_type": "code",
   "execution_count": 1,
   "metadata": {},
   "outputs": [
    {
     "name": "stderr",
     "output_type": "stream",
     "text": [
      "C:\\Users\\Madhuri Yadav\\Anaconda3\\lib\\site-packages\\IPython\\core\\interactiveshell.py:3057: DtypeWarning: Columns (10) have mixed types. Specify dtype option on import or set low_memory=False.\n",
      "  interactivity=interactivity, compiler=compiler, result=result)\n"
     ]
    },
    {
     "name": "stdout",
     "output_type": "stream",
     "text": [
      "Index(['adult', 'belongs_to_collection', 'budget', 'genres', 'homepage', 'id',\n",
      "       'imdb_id', 'original_language', 'original_title', 'overview',\n",
      "       'popularity', 'poster_path', 'production_companies',\n",
      "       'production_countries', 'release_date', 'revenue', 'runtime',\n",
      "       'spoken_languages', 'status', 'tagline', 'title', 'video',\n",
      "       'vote_average', 'vote_count'],\n",
      "      dtype='object')\n",
      "Index(['budget', 'popularity', 'production_companies', 'revenue', 'runtime',\n",
      "       'title', 'vote_average', 'vote_count', 'status', 'New_status', 'Genre'],\n",
      "      dtype='object')\n",
      "Index(['budget', 'popularity', 'revenue', 'runtime', 'title', 'vote_average',\n",
      "       'vote_count', 'status', 'New_status', 'Genre', 'Production Company'],\n",
      "      dtype='object')\n",
      "budget                float64\n",
      "popularity             object\n",
      "revenue               float64\n",
      "runtime               float64\n",
      "title                  object\n",
      "vote_average          float64\n",
      "vote_count            float64\n",
      "status                float64\n",
      "New_status            float64\n",
      "Genre                  object\n",
      "Production Company     object\n",
      "dtype: object\n",
      "       budget popularity      revenue  runtime         title  vote_average  \\\n",
      "0  30000000.0    21.9469  373554033.0     81.0     Toy Story           7.7   \n",
      "1  65000000.0    17.0155  262797249.0    104.0       Jumanji           6.9   \n",
      "5  60000000.0    17.9249  187436818.0    170.0          Heat           7.7   \n",
      "8  35000000.0    5.23158   64350171.0    106.0  Sudden Death           5.5   \n",
      "9  58000000.0     14.686  352194034.0    130.0     GoldenEye           6.6   \n",
      "\n",
      "   vote_count     status  New_status      Genre       Production Company  \n",
      "0      5415.0  12.451801         1.0  Animation  Pixar Animation Studios  \n",
      "1      2413.0   4.043035         1.0  Adventure         TriStar Pictures  \n",
      "5      1886.0   3.123947         1.0     Action      Regency Enterprises  \n",
      "8       174.0   1.838576         1.0     Action       Universal Pictures  \n",
      "9      1194.0   6.072311         1.0  Adventure           United Artists  \n"
     ]
    }
   ],
   "source": [
    "import pandas as pd\n",
    "import numpy as np\n",
    "from sklearn.preprocessing import LabelEncoder\n",
    "from sklearn.model_selection import train_test_split\n",
    "from sklearn.tree import DecisionTreeClassifier\n",
    "from sklearn.metrics import accuracy_score\n",
    "from sklearn.metrics import classification_report\n",
    "\n",
    "\n",
    "# reading csv file data\n",
    "movie_data_orig = pd.read_csv(\"movies_metadata.csv\")\n",
    "\n",
    "# all column names\n",
    "print(movie_data_orig.columns)\n",
    "\n",
    "# removing irrelevant columns\n",
    "df_cleaned = movie_data_orig.drop([\"adult\", \"belongs_to_collection\", \"homepage\", \"id\", \"imdb_id\", \"original_language\",\n",
    "                                   \"original_title\", \"overview\", \"poster_path\", \"production_countries\", \"release_date\",\n",
    "                                   \"spoken_languages\", \"status\", \"tagline\", \"video\" ], axis=1)\n",
    "len(df_cleaned)       # 45466\n",
    "# print(df_cleaned.head(5))\n",
    "\n",
    "# taking into account only those movies where budget and/or revenue is greater than $100,000 (some of values in budget & revenue\n",
    "# columns are 0, 1, 2, 3 etc which do not make any sense\n",
    "\n",
    "df_cleaned.dtypes             # datatype of all columns in the dataframe; (budget is of \"object\" datatype instead of \"int\")\n",
    "df_cleaned.describe()           # giving summary statistics of columns with dtype = float64\n",
    "# budget column contains alpha-numeric characters, so need to fix it\n",
    "df_cleaned['budget'] = df_cleaned['budget'].str.extract('(\\d+)', expand=False)   # removing all non-numeric values from budget column\n",
    "\n",
    "df_cleaned[\"budget\"] = df_cleaned[\"budget\"].astype(float).fillna(0.0)    # changing budget column from object to float\n",
    "# df_cleaned.dtypes       # confirming that budget's dtype has changed to float64\n",
    "# df_cleaned.describe()\n",
    "df_cleaned = df_cleaned.loc[df_cleaned['budget'] > 100000]   # subsetting df to only movies with budget greater than $100,000\n",
    "\n",
    "df_cleaned = df_cleaned.loc[df_cleaned['revenue'] > 1000]      # subsetting df to only movies with revenue greater than $1000\n",
    "\n",
    "\n",
    "# creating our target/label column showing status i.e success/flop movie.\n",
    "df_cleaned[\"status\"] = df_cleaned[\"revenue\"]/df_cleaned[\"budget\"]\n",
    "# df_cleaned.describe()\n",
    "# df_cleaned.dtypes\n",
    "\n",
    "\n",
    "# Our criteria for success is any value greater than 1 else flop\n",
    "df_cleaned[\"New_status\"] = np.nan      # creating a new empty column\n",
    "df_cleaned[\"New_status\"] = df_cleaned[\"New_status\"].mask( df_cleaned[\"status\"] > 1, 1)\n",
    "df_cleaned[\"New_status\"] = df_cleaned[\"New_status\"].mask( df_cleaned[\"status\"] <= 1, 0)\n",
    "\n",
    "\n",
    "# # 1. converting (genre) json column to normal string column\n",
    "\n",
    "df_cleaned['genres'] = df_cleaned['genres'].replace(np.nan,'{}',regex = True)\n",
    "df_cleaned['genres'] = pd.DataFrame(df_cleaned['genres'].apply(eval))\n",
    "# dividing all genres in a cell into separate cols/series, concating it to main df & then dropping the original \"genres\" column from df\n",
    "df_cleaned = pd.concat([df_cleaned.drop(['genres'], axis=1), df_cleaned['genres'].apply(pd.Series)], axis=1)\n",
    "# Removing all columns except the major genre type for each movie\n",
    "df_cleaned.drop(df_cleaned.iloc[:, 11:18], inplace = True, axis = 1)\n",
    "# creating separate series for \"id\" & \"name\" and concating it to main df\n",
    "df_cleaned = pd.concat([df_cleaned.drop([0], axis=1), df_cleaned[0].apply(pd.Series)], axis=1)\n",
    "df_cleaned.rename(columns = {'name' : 'Genre'}, inplace = True)   # renaming col\n",
    "df_cleaned.drop(df_cleaned.iloc[:, 10:12], inplace = True, axis = 1)     # dropping extraneous cols\n",
    "print(df_cleaned.columns)\n",
    "\n",
    "\n",
    "# 2. converting (production_companies) json column to normal string column\n",
    "\n",
    "df_cleaned['production_companies'] = df_cleaned['production_companies'].replace(np.nan,'{}',regex = True)\n",
    "df_cleaned['production_companies'] = pd.DataFrame(df_cleaned['production_companies'].apply(eval))\n",
    "df_cleaned = pd.concat([df_cleaned.drop(['production_companies'], axis=1), df_cleaned['production_companies'].apply(pd.Series)], axis=1)\n",
    "df_cleaned.drop(df_cleaned.iloc[:, 11:36], inplace = True, axis = 1)\n",
    "df_cleaned = pd.concat([df_cleaned.drop([0], axis=1), df_cleaned[0].apply(pd.Series)], axis=1)\n",
    "df_cleaned.rename(columns = {'name' : 'Production Company'}, inplace = True)\n",
    "df_cleaned.drop(df_cleaned.iloc[:, 10:12], inplace = True, axis = 1)\n",
    "print(df_cleaned.columns)\n",
    "\n",
    "\n",
    "# there are many entries where the number of people who voted for a movie are 1, 2 , 3 etc\n",
    "df_cleaned = df_cleaned.loc[df_cleaned['vote_count'] > 100]      # subsetting df to only movies where atleast 100 people voted for a movie\n",
    "len(df_cleaned)      # 3763\n",
    "\n",
    "# Removing Duplicates\n",
    "df_cleaned.drop_duplicates(inplace = True)\n",
    "#print(len(df_cleaned)) # 3763\n",
    "#print(df_cleaned)\n",
    "df_cleaned.describe()\n",
    "print(df_cleaned.dtypes)\n",
    "\n",
    "print(df_cleaned.head())\n"
   ]
  },
  {
   "cell_type": "code",
   "execution_count": 2,
   "metadata": {},
   "outputs": [
    {
     "name": "stderr",
     "output_type": "stream",
     "text": [
      "C:\\Users\\Madhuri Yadav\\Anaconda3\\lib\\site-packages\\sklearn\\preprocessing\\label.py:235: DataConversionWarning: A column-vector y was passed when a 1d array was expected. Please change the shape of y to (n_samples, ), for example using ravel().\n",
      "  y = column_or_1d(y, warn=True)\n"
     ]
    },
    {
     "ename": "NameError",
     "evalue": "name 'X' is not defined",
     "output_type": "error",
     "traceback": [
      "\u001b[1;31m---------------------------------------------------------------------------\u001b[0m",
      "\u001b[1;31mNameError\u001b[0m                                 Traceback (most recent call last)",
      "\u001b[1;32m<ipython-input-2-b86777f52f16>\u001b[0m in \u001b[0;36m<module>\u001b[1;34m\u001b[0m\n\u001b[0;32m      9\u001b[0m \u001b[1;33m\u001b[0m\u001b[0m\n\u001b[0;32m     10\u001b[0m \u001b[1;31m# split the dataset into train and test\u001b[0m\u001b[1;33m\u001b[0m\u001b[1;33m\u001b[0m\u001b[1;33m\u001b[0m\u001b[0m\n\u001b[1;32m---> 11\u001b[1;33m \u001b[0mX_train\u001b[0m\u001b[1;33m,\u001b[0m \u001b[0mX_test\u001b[0m\u001b[1;33m,\u001b[0m \u001b[0my_train\u001b[0m\u001b[1;33m,\u001b[0m \u001b[0my_test\u001b[0m \u001b[1;33m=\u001b[0m \u001b[0mtrain_test_split\u001b[0m\u001b[1;33m(\u001b[0m\u001b[0mX\u001b[0m\u001b[1;33m,\u001b[0m \u001b[0my\u001b[0m\u001b[1;33m,\u001b[0m \u001b[0mtest_size\u001b[0m\u001b[1;33m=\u001b[0m\u001b[1;36m0.3\u001b[0m\u001b[1;33m,\u001b[0m \u001b[0mrandom_state\u001b[0m\u001b[1;33m=\u001b[0m\u001b[1;36m100\u001b[0m\u001b[1;33m)\u001b[0m\u001b[1;33m\u001b[0m\u001b[1;33m\u001b[0m\u001b[0m\n\u001b[0m\u001b[0;32m     12\u001b[0m \u001b[1;33m\u001b[0m\u001b[0m\n\u001b[0;32m     13\u001b[0m \u001b[1;31m# perform training with giniIndex.\u001b[0m\u001b[1;33m\u001b[0m\u001b[1;33m\u001b[0m\u001b[1;33m\u001b[0m\u001b[0m\n",
      "\u001b[1;31mNameError\u001b[0m: name 'X' is not defined"
     ]
    }
   ],
   "source": [
    "\n"
   ]
  },
  {
   "cell_type": "code",
   "execution_count": null,
   "metadata": {},
   "outputs": [],
   "source": []
  }
 ],
 "metadata": {
  "kernelspec": {
   "display_name": "Python 3",
   "language": "python",
   "name": "python3"
  },
  "language_info": {
   "codemirror_mode": {
    "name": "ipython",
    "version": 3
   },
   "file_extension": ".py",
   "mimetype": "text/x-python",
   "name": "python",
   "nbconvert_exporter": "python",
   "pygments_lexer": "ipython3",
   "version": "3.7.3"
  }
 },
 "nbformat": 4,
 "nbformat_minor": 2
}
